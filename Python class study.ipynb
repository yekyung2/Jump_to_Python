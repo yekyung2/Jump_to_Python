{
 "cells": [
  {
   "cell_type": "markdown",
   "metadata": {},
   "source": [
    "# 📚 클래스를 알아보자\n",
    "* 참고 학습 영상\n",
    "https://www.youtube.com/watch?v=gNvJDNklFMQ"
   ]
  },
  {
   "cell_type": "markdown",
   "metadata": {},
   "source": [
    "### 사람을 만들어보자"
   ]
  },
  {
   "cell_type": "code",
   "execution_count": 3,
   "metadata": {},
   "outputs": [],
   "source": [
    "class Person: \n",
    "    def greeting(self):\n",
    "        print(\"안녕하세요\")"
   ]
  },
  {
   "cell_type": "markdown",
   "metadata": {},
   "source": [
    "* 클래스라는 설계도면을 만들고, 그 안에서 속성(attribute)/행동(Method)를 정의내려 준다. \n",
    "* `Person`이라는 클래스를 만들고, greeting이라는 `Method`를 정의했다. greeting(self)의 `self`는 Person이라는 클래스에 속한 메소드라는 의미다."
   ]
  },
  {
   "cell_type": "code",
   "execution_count": 5,
   "metadata": {},
   "outputs": [],
   "source": [
    "scuba = Person()"
   ]
  },
  {
   "cell_type": "markdown",
   "metadata": {},
   "source": [
    "* 파이썬은 객체(`Object`)지향언어! \n",
    "* Person 이라는 클래스를 사용하기 위해, `scuba`라는 객체를 생성해주었다. "
   ]
  },
  {
   "cell_type": "code",
   "execution_count": 6,
   "metadata": {},
   "outputs": [
    {
     "name": "stdout",
     "output_type": "stream",
     "text": [
      "안녕하세요\n"
     ]
    }
   ],
   "source": [
    "scuba.greeting()"
   ]
  },
  {
   "cell_type": "markdown",
   "metadata": {},
   "source": [
    "* 이 scuba라는 객체에게 greeting이라는 행동을 시키니, 아주 잘 실행하는구먼.\n",
    "⇢ 이렇듯, 사람에게 일을 시키듯이, 객체를 잘 만들어 놓으면 객체에게 명령을 하고, 객체들이 속성을 바꾸며 잘 작동하기 때문에 복잡한 문제를 쉽고 편리하게 해결할 수 있다. "
   ]
  },
  {
   "cell_type": "markdown",
   "metadata": {},
   "source": [
    "### 이번에는 인사도 시키고 노래도 시켜보자"
   ]
  },
  {
   "cell_type": "code",
   "execution_count": 7,
   "metadata": {},
   "outputs": [],
   "source": [
    "class Person: \n",
    "    def greeting(self):\n",
    "        print(\"안녕하세요\")\n",
    "    def sing(self):\n",
    "        self.greeting()\n",
    "        print(\"랄랄라!\")"
   ]
  },
  {
   "cell_type": "code",
   "execution_count": 8,
   "metadata": {},
   "outputs": [],
   "source": [
    "scuba = Person()"
   ]
  },
  {
   "cell_type": "code",
   "execution_count": 9,
   "metadata": {},
   "outputs": [
    {
     "name": "stdout",
     "output_type": "stream",
     "text": [
      "안녕하세요\n"
     ]
    }
   ],
   "source": [
    "scuba.greeting()"
   ]
  },
  {
   "cell_type": "code",
   "execution_count": 10,
   "metadata": {},
   "outputs": [
    {
     "name": "stdout",
     "output_type": "stream",
     "text": [
      "안녕하세요\n",
      "랄랄라!\n"
     ]
    }
   ],
   "source": [
    "scuba.sing()"
   ]
  },
  {
   "cell_type": "markdown",
   "metadata": {},
   "source": [
    "### (미리 어떤 속성값을 잡아놓는 등) 초기화시키며 객체를 생성하고 싶다.\n",
    "* 클래스 생성시 __init__ 을 사용하면, 따로 여기에 해당된 값들을 호출하지 않아도 instance를 생성시 자동으로 호출된다. "
   ]
  },
  {
   "cell_type": "code",
   "execution_count": 11,
   "metadata": {},
   "outputs": [],
   "source": [
    "class Person: \n",
    "    def __init__(self):\n",
    "        self.name = \"나\"\n",
    "        self.age = 20\n",
    "        self.live = \"서울\"\n",
    "    def greeting(self):\n",
    "        print(\"안녕하세요\")\n",
    "    def sing(self):\n",
    "        self.greeting()\n",
    "        print(\"랄랄라!\")"
   ]
  },
  {
   "cell_type": "code",
   "execution_count": 12,
   "metadata": {},
   "outputs": [],
   "source": [
    "scuba = Person()"
   ]
  },
  {
   "cell_type": "code",
   "execution_count": 13,
   "metadata": {},
   "outputs": [
    {
     "data": {
      "text/plain": [
       "'나'"
      ]
     },
     "execution_count": 13,
     "metadata": {},
     "output_type": "execute_result"
    }
   ],
   "source": [
    "scuba.name"
   ]
  },
  {
   "cell_type": "code",
   "execution_count": 15,
   "metadata": {},
   "outputs": [
    {
     "data": {
      "text/plain": [
       "20"
      ]
     },
     "execution_count": 15,
     "metadata": {},
     "output_type": "execute_result"
    }
   ],
   "source": [
    "scuba.age"
   ]
  },
  {
   "cell_type": "markdown",
   "metadata": {},
   "source": [
    "### 객체 생성시 입력값을 받아 초기화 시켜보자"
   ]
  },
  {
   "cell_type": "code",
   "execution_count": 16,
   "metadata": {},
   "outputs": [],
   "source": [
    "class Person: \n",
    "    def __init__(self, name, age, live):\n",
    "        self.name = name\n",
    "        self.age = age\n",
    "        self.live = live\n",
    "    def greeting(self):\n",
    "        print(\"안녕하세요\")\n",
    "    def sing(self):\n",
    "        self.greeting()\n",
    "        print(\"랄랄라!\")"
   ]
  },
  {
   "cell_type": "code",
   "execution_count": 22,
   "metadata": {},
   "outputs": [],
   "source": [
    "scuba = Person(\"scuba\", 26, \"김포\")\n",
    "mina = Person(\"이민아\", 22, \"서울\")\n",
    "minho = Person(\"박민호\", 30, \"광주\")"
   ]
  },
  {
   "cell_type": "code",
   "execution_count": 21,
   "metadata": {},
   "outputs": [
    {
     "data": {
      "text/plain": [
       "'scuba'"
      ]
     },
     "execution_count": 21,
     "metadata": {},
     "output_type": "execute_result"
    }
   ],
   "source": [
    "scuba.name"
   ]
  },
  {
   "cell_type": "code",
   "execution_count": 23,
   "metadata": {},
   "outputs": [
    {
     "data": {
      "text/plain": [
       "'광주'"
      ]
     },
     "execution_count": 23,
     "metadata": {},
     "output_type": "execute_result"
    }
   ],
   "source": [
    "minho.live"
   ]
  },
  {
   "cell_type": "markdown",
   "metadata": {},
   "source": [
    "# 📚 클래스를 알아보자(2)"
   ]
  },
  {
   "cell_type": "code",
   "execution_count": 38,
   "metadata": {},
   "outputs": [],
   "source": [
    "class Person: \n",
    "    sex = \"\"\n",
    "    items = []\n",
    "    \n",
    "    def __init__(self, name, age, live):\n",
    "        self.name = name\n",
    "        self.age = age\n",
    "        self.live = live\n",
    "  \n",
    "    def addItem(self, item):\n",
    "        self.items.append(item)\n",
    "        print(item, \"을(를) 추가했습니다.\")\n",
    "    def getItem(self):\n",
    "        print(self.items)"
   ]
  },
  {
   "cell_type": "code",
   "execution_count": 39,
   "metadata": {},
   "outputs": [],
   "source": [
    "scubalee = Person('scubalee', 20, '한국')"
   ]
  },
  {
   "cell_type": "code",
   "execution_count": 40,
   "metadata": {},
   "outputs": [],
   "source": [
    "scubalee.items.append(\"과자\")"
   ]
  },
  {
   "cell_type": "code",
   "execution_count": 41,
   "metadata": {},
   "outputs": [
    {
     "data": {
      "text/plain": [
       "['과자']"
      ]
     },
     "execution_count": 41,
     "metadata": {},
     "output_type": "execute_result"
    }
   ],
   "source": [
    "scubalee.items"
   ]
  },
  {
   "cell_type": "markdown",
   "metadata": {},
   "source": [
    "* items를 메소드만을 이용해서 접근가능한 리스트로 만들고 싶다면, 다음과 같이 만들어준다. /age도 적용"
   ]
  },
  {
   "cell_type": "code",
   "execution_count": 49,
   "metadata": {},
   "outputs": [],
   "source": [
    "class Person: \n",
    "    sex = \"\"\n",
    "    __items = [] #private 속성 설정  \n",
    "    \n",
    "    def __init__(self, name, age, live):\n",
    "        self.name = name\n",
    "        self.__age = age #private 속상 설정\n",
    "        self.live = live\n",
    "  \n",
    "    def addItem(self, item):\n",
    "        self.__items.append(item)\n",
    "        print(item, \"을(를) 추가했습니다.\")\n",
    "        \n",
    "    def getItem(self):\n",
    "        print(self.__items)\n",
    "        \n",
    "    def getAge(self):\n",
    "        print(self.__age - 5)"
   ]
  },
  {
   "cell_type": "code",
   "execution_count": 50,
   "metadata": {},
   "outputs": [],
   "source": [
    "scubalee = Person('scubalee', 20, '한국')"
   ]
  },
  {
   "cell_type": "code",
   "execution_count": 51,
   "metadata": {
    "scrolled": true
   },
   "outputs": [
    {
     "ename": "AttributeError",
     "evalue": "'Person' object has no attribute 'items'",
     "output_type": "error",
     "traceback": [
      "\u001b[0;31m------------------------------------------------------------------------\u001b[0m",
      "\u001b[0;31mAttributeError\u001b[0m                         Traceback (most recent call last)",
      "\u001b[0;32m<ipython-input-51-9fa107d9214f>\u001b[0m in \u001b[0;36m<module>\u001b[0;34m\u001b[0m\n\u001b[0;32m----> 1\u001b[0;31m \u001b[0mscubalee\u001b[0m\u001b[0;34m.\u001b[0m\u001b[0mitems\u001b[0m\u001b[0;34m.\u001b[0m\u001b[0mappend\u001b[0m\u001b[0;34m(\u001b[0m\u001b[0;34m\"과자\"\u001b[0m\u001b[0;34m)\u001b[0m\u001b[0;34m\u001b[0m\u001b[0;34m\u001b[0m\u001b[0m\n\u001b[0m",
      "\u001b[0;31mAttributeError\u001b[0m: 'Person' object has no attribute 'items'"
     ]
    }
   ],
   "source": [
    "scubalee.items.append(\"과자\")"
   ]
  },
  {
   "cell_type": "markdown",
   "metadata": {},
   "source": [
    "* 그랬더니 이렇게, 바로 추가가 불가능하다는 오류 메시지를 확인하게 된다."
   ]
  },
  {
   "cell_type": "code",
   "execution_count": 52,
   "metadata": {
    "scrolled": true
   },
   "outputs": [
    {
     "name": "stdout",
     "output_type": "stream",
     "text": [
      "초콜릿 을(를) 추가했습니다.\n"
     ]
    }
   ],
   "source": [
    "scubalee.addItem(\"초콜릿\")"
   ]
  },
  {
   "cell_type": "markdown",
   "metadata": {},
   "source": [
    "* 의도했던대로, 메소드를 이용한 추가는 가능하다."
   ]
  },
  {
   "cell_type": "code",
   "execution_count": 56,
   "metadata": {},
   "outputs": [
    {
     "name": "stdout",
     "output_type": "stream",
     "text": [
      "15\n"
     ]
    }
   ],
   "source": [
    "scubalee.getAge()"
   ]
  },
  {
   "cell_type": "markdown",
   "metadata": {},
   "source": [
    "### 📌정적 메소드 (Static method)\n",
    "계산기와 같은 반복적인 작업만 필요하고, instance를 많이 생성할 필요가 없을 때 정적 메소드를 활용한다. "
   ]
  },
  {
   "cell_type": "code",
   "execution_count": 60,
   "metadata": {},
   "outputs": [],
   "source": [
    "class calc: \n",
    "    @staticmethod\n",
    "    def add(a, b):\n",
    "        return a + b\n",
    "    def sub(a, b):\n",
    "        return a - b"
   ]
  },
  {
   "cell_type": "code",
   "execution_count": 59,
   "metadata": {},
   "outputs": [
    {
     "data": {
      "text/plain": [
       "30"
      ]
     },
     "execution_count": 59,
     "metadata": {},
     "output_type": "execute_result"
    }
   ],
   "source": [
    "calc.add(10,20)"
   ]
  },
  {
   "cell_type": "code",
   "execution_count": 61,
   "metadata": {},
   "outputs": [
    {
     "data": {
      "text/plain": [
       "-10"
      ]
     },
     "execution_count": 61,
     "metadata": {},
     "output_type": "execute_result"
    }
   ],
   "source": [
    "calc.sub(10,20)"
   ]
  },
  {
   "cell_type": "markdown",
   "metadata": {},
   "source": [
    "# 📚 클래스를 알아보자(3) 상속"
   ]
  },
  {
   "cell_type": "code",
   "execution_count": 62,
   "metadata": {},
   "outputs": [],
   "source": [
    "class Person:\n",
    "    def __init__(self, name, age):\n",
    "        self.name = name\n",
    "        self.age = age\n",
    "    \n",
    "    def greeting(self):\n",
    "        print(\"안녕하세요 %s입니다\" %self.name)"
   ]
  },
  {
   "cell_type": "code",
   "execution_count": 63,
   "metadata": {},
   "outputs": [],
   "source": [
    "na = Person(\"na\", 20)"
   ]
  },
  {
   "cell_type": "code",
   "execution_count": 64,
   "metadata": {},
   "outputs": [
    {
     "name": "stdout",
     "output_type": "stream",
     "text": [
      "안녕하세요 na입니다\n"
     ]
    }
   ],
   "source": [
    "na.greeting()"
   ]
  },
  {
   "cell_type": "markdown",
   "metadata": {},
   "source": [
    "### '학생'이라는 클래스를 생성하고 싶다면?\n",
    "* 아예 처음부터 만드는 것이 아니라, 이미 만들어두었던 'Person'이라는 클래스의 속성을 상속받고 거기에 몇가지 속성들을 더 추가해서 만들어준다면 훨씬 효율적이고 편리할 것이다. "
   ]
  },
  {
   "cell_type": "code",
   "execution_count": 72,
   "metadata": {},
   "outputs": [],
   "source": [
    "class Student(Person):\n",
    "    pass #따로 추가 속성없고, person의 속성을 그대로 상속받는다는 뜻"
   ]
  },
  {
   "cell_type": "code",
   "execution_count": 70,
   "metadata": {},
   "outputs": [],
   "source": [
    "s1 = Student(\"김학생\", 18)"
   ]
  },
  {
   "cell_type": "code",
   "execution_count": 71,
   "metadata": {},
   "outputs": [
    {
     "name": "stdout",
     "output_type": "stream",
     "text": [
      "안녕하세요 김학생입니다\n"
     ]
    }
   ],
   "source": [
    "s1.greeting()"
   ]
  },
  {
   "cell_type": "markdown",
   "metadata": {},
   "source": [
    "### 📌오버라이팅\n",
    "* 부모클래스에 속한 속성을 자식 클래스에서 재정의해주면, 자식 클래스의 속성이 우선한다."
   ]
  },
  {
   "cell_type": "code",
   "execution_count": 112,
   "metadata": {},
   "outputs": [],
   "source": [
    "class Student(Person): #Person은 부모/슈퍼 클래스, Student는 자식클래스\n",
    "    \n",
    "    def __init__(self, name, age, student_id):\n",
    "        self.name = name\n",
    "        self.age = age\n",
    "        self.student_id = student_id\n",
    "    \n",
    "    def greeting(self):\n",
    "        super().greeting() #부모클래스의 속성도 출력하고 싶다면, 이렇게 추가! 자기자신은 self, 부모는 super!     \n",
    "        print(\"안녕하세요 학생, %s입니다.\" %self.name)\n",
    "    def study(self):\n",
    "        print(\"📚열공중✍️\")"
   ]
  },
  {
   "cell_type": "code",
   "execution_count": 113,
   "metadata": {
    "scrolled": true
   },
   "outputs": [],
   "source": [
    "s1 = Student(\"김학생\", 18, 1234)"
   ]
  },
  {
   "cell_type": "code",
   "execution_count": 114,
   "metadata": {},
   "outputs": [
    {
     "name": "stdout",
     "output_type": "stream",
     "text": [
      "📚열공중✍️\n"
     ]
    }
   ],
   "source": [
    "s1.study()"
   ]
  },
  {
   "cell_type": "code",
   "execution_count": 115,
   "metadata": {},
   "outputs": [
    {
     "name": "stdout",
     "output_type": "stream",
     "text": [
      "안녕하세요 김학생입니다\n",
      "안녕하세요 학생, 김학생입니다.\n"
     ]
    }
   ],
   "source": [
    "s1.greeting()"
   ]
  },
  {
   "cell_type": "markdown",
   "metadata": {},
   "source": [
    "### 자식클래스의 자식클래스 만들기"
   ]
  },
  {
   "cell_type": "code",
   "execution_count": 120,
   "metadata": {},
   "outputs": [],
   "source": [
    "class CollegeStudent(Student):\n",
    "    community= \"\""
   ]
  },
  {
   "cell_type": "code",
   "execution_count": 117,
   "metadata": {},
   "outputs": [],
   "source": [
    "c1 = CollegeStudent('김대학생', 22, 12345)"
   ]
  },
  {
   "cell_type": "code",
   "execution_count": 118,
   "metadata": {},
   "outputs": [
    {
     "name": "stdout",
     "output_type": "stream",
     "text": [
      "안녕하세요 김대학생입니다\n",
      "안녕하세요 학생, 김대학생입니다.\n"
     ]
    }
   ],
   "source": [
    "c1.greeting()"
   ]
  },
  {
   "cell_type": "code",
   "execution_count": 121,
   "metadata": {},
   "outputs": [],
   "source": [
    "c1.community = \"연극부\""
   ]
  },
  {
   "cell_type": "code",
   "execution_count": 123,
   "metadata": {},
   "outputs": [
    {
     "data": {
      "text/plain": [
       "'연극부'"
      ]
     },
     "execution_count": 123,
     "metadata": {},
     "output_type": "execute_result"
    }
   ],
   "source": [
    "c1.community"
   ]
  },
  {
   "cell_type": "markdown",
   "metadata": {},
   "source": [
    "### 다중상속 : 두개 이상의 클래스의 속성을 상속받는 것\n",
    "* 가급적, 다중상속을 최소한으로 사용하는 것이 낫다. 나중에 혼란이 생길 수 있음"
   ]
  },
  {
   "cell_type": "code",
   "execution_count": 124,
   "metadata": {},
   "outputs": [],
   "source": [
    "class University:\n",
    "    Uni_name = \"\"\n",
    "    Uni_address = \"\""
   ]
  },
  {
   "cell_type": "code",
   "execution_count": 126,
   "metadata": {},
   "outputs": [],
   "source": [
    "class CollegeStudent(Student, University):\n",
    "    pass"
   ]
  },
  {
   "cell_type": "code",
   "execution_count": 127,
   "metadata": {},
   "outputs": [],
   "source": [
    "c1 = CollegeStudent(\"김대학생\", 20, 12345)"
   ]
  },
  {
   "cell_type": "code",
   "execution_count": 128,
   "metadata": {},
   "outputs": [],
   "source": [
    "c1.Uni_name = \"서울대\""
   ]
  },
  {
   "cell_type": "code",
   "execution_count": 129,
   "metadata": {},
   "outputs": [
    {
     "data": {
      "text/plain": [
       "'서울대'"
      ]
     },
     "execution_count": 129,
     "metadata": {},
     "output_type": "execute_result"
    }
   ],
   "source": [
    "c1.Uni_name"
   ]
  },
  {
   "cell_type": "code",
   "execution_count": 130,
   "metadata": {},
   "outputs": [
    {
     "name": "stdout",
     "output_type": "stream",
     "text": [
      "안녕하세요 김대학생입니다\n",
      "안녕하세요 학생, 김대학생입니다.\n"
     ]
    }
   ],
   "source": [
    "c1.greeting()"
   ]
  },
  {
   "cell_type": "code",
   "execution_count": null,
   "metadata": {},
   "outputs": [],
   "source": []
  }
 ],
 "metadata": {
  "kernelspec": {
   "display_name": "Python 3",
   "language": "python",
   "name": "python3"
  },
  "language_info": {
   "codemirror_mode": {
    "name": "ipython",
    "version": 3
   },
   "file_extension": ".py",
   "mimetype": "text/x-python",
   "name": "python",
   "nbconvert_exporter": "python",
   "pygments_lexer": "ipython3",
   "version": "3.8.3"
  }
 },
 "nbformat": 4,
 "nbformat_minor": 4
}
